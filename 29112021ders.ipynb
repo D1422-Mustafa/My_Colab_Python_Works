{
  "nbformat": 4,
  "nbformat_minor": 0,
  "metadata": {
    "colab": {
      "name": "29112021ders.ipynb",
      "provenance": [],
      "collapsed_sections": [],
      "authorship_tag": "ABX9TyONtrfEdals+zheQxMW2oCT",
      "include_colab_link": true
    },
    "kernelspec": {
      "name": "python3",
      "display_name": "Python 3"
    },
    "language_info": {
      "name": "python"
    }
  },
  "cells": [
    {
      "cell_type": "markdown",
      "metadata": {
        "id": "view-in-github",
        "colab_type": "text"
      },
      "source": [
        "<a href=\"https://colab.research.google.com/github/D1422-Mustafa/My_Colab_Python_Works/blob/main/29112021ders.ipynb\" target=\"_parent\"><img src=\"https://colab.research.google.com/assets/colab-badge.svg\" alt=\"Open In Colab\"/></a>"
      ]
    },
    {
      "cell_type": "code",
      "metadata": {
        "id": "1engYntC4gbd"
      },
      "source": [
        "def square(x) :\n",
        "  return x ** 2"
      ],
      "execution_count": null,
      "outputs": []
    },
    {
      "cell_type": "code",
      "metadata": {
        "colab": {
          "base_uri": "https://localhost:8080/"
        },
        "id": "9NfW6lio5YBY",
        "outputId": "1ef55a93-dbc4-4421-fa3e-6f858ba3787d"
      },
      "source": [
        "square(2)"
      ],
      "execution_count": null,
      "outputs": [
        {
          "output_type": "execute_result",
          "data": {
            "text/plain": [
              "4"
            ]
          },
          "metadata": {},
          "execution_count": 2
        }
      ]
    },
    {
      "cell_type": "code",
      "metadata": {
        "colab": {
          "base_uri": "https://localhost:8080/"
        },
        "id": "QkeUt67r5cVn",
        "outputId": "5ee3b8a6-f398-4b4f-86da-88eb81cc9319"
      },
      "source": [
        "square = (lambda x : x ** 2)\n",
        "square(5)"
      ],
      "execution_count": null,
      "outputs": [
        {
          "output_type": "execute_result",
          "data": {
            "text/plain": [
              "25"
            ]
          },
          "metadata": {},
          "execution_count": 4
        }
      ]
    },
    {
      "cell_type": "code",
      "metadata": {
        "id": "nIX52pDf5qY5"
      },
      "source": [
        "mean = (lambda x , y : (x+y)/2)\n",
        "\n"
      ],
      "execution_count": null,
      "outputs": []
    },
    {
      "cell_type": "code",
      "metadata": {
        "colab": {
          "base_uri": "https://localhost:8080/"
        },
        "id": "EjGZJp-D53oH",
        "outputId": "143baca2-25fa-4425-e902-31c6e57bc299"
      },
      "source": [
        "mean(8, 10)"
      ],
      "execution_count": null,
      "outputs": [
        {
          "output_type": "execute_result",
          "data": {
            "text/plain": [
              "9.0"
            ]
          },
          "metadata": {},
          "execution_count": 6
        }
      ]
    },
    {
      "cell_type": "code",
      "metadata": {
        "colab": {
          "base_uri": "https://localhost:8080/"
        },
        "id": "yziTKMrP6Amr",
        "outputId": "fd093b5f-3794-4a0a-8ec4-5fcc090cc8e7"
      },
      "source": [
        "print((lambda x : x ** 2) (2))"
      ],
      "execution_count": null,
      "outputs": [
        {
          "output_type": "stream",
          "name": "stdout",
          "text": [
            "4\n"
          ]
        }
      ]
    },
    {
      "cell_type": "code",
      "metadata": {
        "colab": {
          "base_uri": "https://localhost:8080/"
        },
        "id": "Go2zMBO96jwr",
        "outputId": "34e2d769-d219-4579-ccd2-42501435bb26"
      },
      "source": [
        "lambda x : \"odd\" if x % 2 != 0 else \"even\""
      ],
      "execution_count": null,
      "outputs": [
        {
          "output_type": "execute_result",
          "data": {
            "text/plain": [
              "<function __main__.<lambda>>"
            ]
          },
          "metadata": {},
          "execution_count": 8
        }
      ]
    },
    {
      "cell_type": "code",
      "metadata": {
        "colab": {
          "base_uri": "https://localhost:8080/",
          "height": 35
        },
        "id": "zDzM-Hmd62_X",
        "outputId": "564c01b5-2ca2-42a8-c9b3-b30eccd40bbd"
      },
      "source": [
        "(lambda x : \"odd\" if x % 2 != 0 else \"even\")(2)"
      ],
      "execution_count": null,
      "outputs": [
        {
          "output_type": "execute_result",
          "data": {
            "application/vnd.google.colaboratory.intrinsic+json": {
              "type": "string"
            },
            "text/plain": [
              "'even'"
            ]
          },
          "metadata": {},
          "execution_count": 9
        }
      ]
    },
    {
      "cell_type": "code",
      "metadata": {
        "colab": {
          "base_uri": "https://localhost:8080/",
          "height": 35
        },
        "id": "Nur3PCdw7GBX",
        "outputId": "57cecdcf-43bc-4234-9736-047165794c20"
      },
      "source": [
        "(lambda x : \"odd\" if x % 2 != 0 else \"even\")(3)"
      ],
      "execution_count": null,
      "outputs": [
        {
          "output_type": "execute_result",
          "data": {
            "application/vnd.google.colaboratory.intrinsic+json": {
              "type": "string"
            },
            "text/plain": [
              "'odd'"
            ]
          },
          "metadata": {},
          "execution_count": 10
        }
      ]
    },
    {
      "cell_type": "code",
      "metadata": {
        "colab": {
          "base_uri": "https://localhost:8080/",
          "height": 35
        },
        "id": "Y7AuMH0v7Wyk",
        "outputId": "4e94e3f0-c1f2-4b43-fd7b-1680d5668a85"
      },
      "source": [
        "(lambda x : x[::-1])(\"Ali\")"
      ],
      "execution_count": null,
      "outputs": [
        {
          "output_type": "execute_result",
          "data": {
            "application/vnd.google.colaboratory.intrinsic+json": {
              "type": "string"
            },
            "text/plain": [
              "'ilA'"
            ]
          },
          "metadata": {},
          "execution_count": 11
        }
      ]
    },
    {
      "cell_type": "code",
      "metadata": {
        "colab": {
          "base_uri": "https://localhost:8080/"
        },
        "id": "mz3QHVS_8Nsf",
        "outputId": "3419b4f5-9820-4ceb-f2a0-32924e44867b"
      },
      "source": [
        "(lambda x : x[::-1])([1, 3, 5, 8, 9])"
      ],
      "execution_count": null,
      "outputs": [
        {
          "output_type": "execute_result",
          "data": {
            "text/plain": [
              "[9, 8, 5, 3, 1]"
            ]
          },
          "metadata": {},
          "execution_count": 12
        }
      ]
    },
    {
      "cell_type": "code",
      "metadata": {
        "colab": {
          "base_uri": "https://localhost:8080/"
        },
        "id": "7E5Cjp8r8Yd2",
        "outputId": "a1a80971-f729-4921-d935-5896f7844dea"
      },
      "source": [
        "(lambda a, b : (a + b)/2)(3, 5)"
      ],
      "execution_count": null,
      "outputs": [
        {
          "output_type": "execute_result",
          "data": {
            "text/plain": [
              "4.0"
            ]
          },
          "metadata": {},
          "execution_count": 14
        }
      ]
    },
    {
      "cell_type": "code",
      "metadata": {
        "colab": {
          "base_uri": "https://localhost:8080/"
        },
        "id": "NmwqOd-78uJs",
        "outputId": "6b5e5042-35ed-4ef0-fd15-83eb827f4a0c"
      },
      "source": [
        "avarage = (lambda x, y : (x + y) /2)\n",
        "print(avarage(3, 5))"
      ],
      "execution_count": null,
      "outputs": [
        {
          "output_type": "stream",
          "name": "stdout",
          "text": [
            "4.0\n"
          ]
        }
      ]
    },
    {
      "cell_type": "code",
      "metadata": {
        "colab": {
          "base_uri": "https://localhost:8080/"
        },
        "id": "9G1lwaK89CD2",
        "outputId": "27cd79b7-a13c-4caa-af25-f4e6307cd095"
      },
      "source": [
        "my_list = [1, 2, 3, 4]\n",
        "for i in my_list :\n",
        "  result = (lambda x : \"odd\" if x % 2 != 0 else \"even\")(i)\n",
        "  print(i, \":\", result)"
      ],
      "execution_count": null,
      "outputs": [
        {
          "output_type": "stream",
          "name": "stdout",
          "text": [
            "1 : odd\n",
            "2 : even\n",
            "3 : odd\n",
            "4 : even\n"
          ]
        }
      ]
    },
    {
      "cell_type": "code",
      "metadata": {
        "colab": {
          "base_uri": "https://localhost:8080/"
        },
        "id": "LXfEpwlj-cU5",
        "outputId": "669b4fe7-2b83-480c-cd59-c793a0e93026"
      },
      "source": [
        "sayılar = [1, 2, 3, 4, 5, 6]\n",
        "for a in sayılar :\n",
        "  print(a, \":\", (lambda x : \"odd\" if x % 2 != 0 else \"even\")(a))"
      ],
      "execution_count": null,
      "outputs": [
        {
          "output_type": "stream",
          "name": "stdout",
          "text": [
            "1 : odd\n",
            "2 : even\n",
            "3 : odd\n",
            "4 : even\n",
            "5 : odd\n",
            "6 : even\n"
          ]
        }
      ]
    },
    {
      "cell_type": "code",
      "metadata": {
        "colab": {
          "base_uri": "https://localhost:8080/"
        },
        "id": "DDnde3cq-pTz",
        "outputId": "9e2f44a5-9f12-46e0-faad-d7379b8f3e83"
      },
      "source": [
        "avarage = (lambda x, y : (x + y) /2)\n",
        "print(avarage(3, 5))"
      ],
      "execution_count": null,
      "outputs": [
        {
          "output_type": "stream",
          "name": "stdout",
          "text": [
            "4.0\n"
          ]
        }
      ]
    },
    {
      "cell_type": "code",
      "metadata": {
        "colab": {
          "base_uri": "https://localhost:8080/",
          "height": 35
        },
        "id": "kvSlraDO-mGe",
        "outputId": "3524969c-9b4c-4604-cbc3-ec1d91b9e2eb"
      },
      "source": [
        "finder = (lambda x : \"odd\" if x % 2 != 0 else \"even\")\n",
        "finder(5)"
      ],
      "execution_count": null,
      "outputs": [
        {
          "output_type": "execute_result",
          "data": {
            "application/vnd.google.colaboratory.intrinsic+json": {
              "type": "string"
            },
            "text/plain": [
              "'odd'"
            ]
          },
          "metadata": {},
          "execution_count": 26
        }
      ]
    },
    {
      "cell_type": "code",
      "metadata": {
        "colab": {
          "base_uri": "https://localhost:8080/"
        },
        "id": "ZzC8UFlu_qiI",
        "outputId": "16a1c1aa-78c7-48d4-88de-5e16955566c8"
      },
      "source": [
        "print(finder(8))"
      ],
      "execution_count": null,
      "outputs": [
        {
          "output_type": "stream",
          "name": "stdout",
          "text": [
            "even\n"
          ]
        }
      ]
    },
    {
      "cell_type": "code",
      "metadata": {
        "id": "z9aXFfkg_uEM"
      },
      "source": [
        "reverser = (lambda x : x[::-1])\n"
      ],
      "execution_count": null,
      "outputs": []
    },
    {
      "cell_type": "code",
      "metadata": {
        "colab": {
          "base_uri": "https://localhost:8080/"
        },
        "id": "I40ZWt3iACvl",
        "outputId": "29359356-a74a-4430-a91e-beac954e3854"
      },
      "source": [
        "reverser([1, 3, 6, 1, 2, 8, 9])"
      ],
      "execution_count": null,
      "outputs": [
        {
          "output_type": "execute_result",
          "data": {
            "text/plain": [
              "[9, 8, 2, 1, 6, 3, 1]"
            ]
          },
          "metadata": {},
          "execution_count": 29
        }
      ]
    },
    {
      "cell_type": "code",
      "metadata": {
        "colab": {
          "base_uri": "https://localhost:8080/"
        },
        "id": "1QgxdyUfAJVt",
        "outputId": "32f11146-7298-4e05-82d0-4d856fb2100b"
      },
      "source": [
        "my_map = list(map(lambda x: x**2, ([1,2,3])))\n",
        "print(my_map)"
      ],
      "execution_count": null,
      "outputs": [
        {
          "output_type": "stream",
          "name": "stdout",
          "text": [
            "[1, 4, 9]\n"
          ]
        }
      ]
    },
    {
      "cell_type": "code",
      "metadata": {
        "id": "NzxUnwzbBLPr"
      },
      "source": [
        "fonksiyon = lambda x: x ** 2\n",
        "iterable = [1, 2, 3]"
      ],
      "execution_count": null,
      "outputs": []
    },
    {
      "cell_type": "code",
      "metadata": {
        "colab": {
          "base_uri": "https://localhost:8080/"
        },
        "id": "dFsbMr2jA_sJ",
        "outputId": "4bcab0b2-a235-4911-9db9-10d29e9890c2"
      },
      "source": [
        "sonuc = map(fonksiyon, iterable)\n",
        "print(* sonuc)"
      ],
      "execution_count": null,
      "outputs": [
        {
          "output_type": "stream",
          "name": "stdout",
          "text": [
            "1 4 9\n"
          ]
        }
      ]
    },
    {
      "cell_type": "code",
      "metadata": {
        "id": "5zeR6ZCtFf3F"
      },
      "source": [
        "def kare(b) :\n",
        "  return b ** 2\n",
        "  "
      ],
      "execution_count": 37,
      "outputs": []
    },
    {
      "cell_type": "code",
      "metadata": {
        "colab": {
          "base_uri": "https://localhost:8080/"
        },
        "id": "xixjZjr1FlxE",
        "outputId": "d69bf373-1424-47fc-e71a-dfade09b75ed"
      },
      "source": [
        "sonuc2  = map(kare, [1, 2, 3])\n",
        "print(*sonuc2)"
      ],
      "execution_count": 39,
      "outputs": [
        {
          "output_type": "stream",
          "name": "stdout",
          "text": [
            "1 4 9\n"
          ]
        }
      ]
    },
    {
      "cell_type": "code",
      "metadata": {
        "id": "CiMqMcxHGHaP"
      },
      "source": [
        "map()"
      ],
      "execution_count": null,
      "outputs": []
    },
    {
      "cell_type": "code",
      "metadata": {
        "id": "rXWlQr34GWYs"
      },
      "source": [
        "topla = lambda x, y, z : x + y + z"
      ],
      "execution_count": 40,
      "outputs": []
    },
    {
      "cell_type": "code",
      "metadata": {
        "colab": {
          "base_uri": "https://localhost:8080/",
          "height": 35
        },
        "id": "dP5uYftPGfuO",
        "outputId": "3e381c96-03be-4cdb-c145-c6dfd449ab79"
      },
      "source": [
        "topla(\"a\", \"l\", \"i\")"
      ],
      "execution_count": 41,
      "outputs": [
        {
          "output_type": "execute_result",
          "data": {
            "application/vnd.google.colaboratory.intrinsic+json": {
              "type": "string"
            },
            "text/plain": [
              "'ali'"
            ]
          },
          "metadata": {},
          "execution_count": 41
        }
      ]
    },
    {
      "cell_type": "code",
      "metadata": {
        "id": "UF3oeyr8HtGM"
      },
      "source": [
        "num1 = [9, 6, 7, 4]\n",
        "num2 = [3, 6, 5, 8]\n",
        "func = lambda x, y : (x + y) / 2"
      ],
      "execution_count": 43,
      "outputs": []
    },
    {
      "cell_type": "code",
      "metadata": {
        "colab": {
          "base_uri": "https://localhost:8080/"
        },
        "id": "iETPXy9SH4_K",
        "outputId": "8c962c9a-22c2-41e0-c55c-470d8a24df6c"
      },
      "source": [
        "numbers = map(func, num1, num2)\n",
        "print(list(numbers))"
      ],
      "execution_count": 44,
      "outputs": [
        {
          "output_type": "stream",
          "name": "stdout",
          "text": [
            "[6.0, 6.0, 6.0, 6.0]\n"
          ]
        }
      ]
    },
    {
      "cell_type": "code",
      "metadata": {
        "id": "fR2lYiRMIy3B"
      },
      "source": [
        "words1 = [\"you\", \"much\",\"hard\"]\n",
        "words2 = [\"i\", \"you\",\"he\"]\n",
        "words3 = [\"love\", \"ate\",\"works\"]\n",
        "funct = map(lambda x, y, z: x + \" \" + y + \" \" + z, words2, words3, words1)\n"
      ],
      "execution_count": 56,
      "outputs": []
    },
    {
      "cell_type": "code",
      "metadata": {
        "colab": {
          "base_uri": "https://localhost:8080/"
        },
        "id": "4WceeAxLJe1Z",
        "outputId": "1f559ded-824c-4d1c-b0de-b052877ab517"
      },
      "source": [
        "for i in funct :\n",
        "  print(i)\n"
      ],
      "execution_count": 57,
      "outputs": [
        {
          "output_type": "stream",
          "name": "stdout",
          "text": [
            "i love you\n",
            "you ate much\n",
            "he works hard\n"
          ]
        }
      ]
    },
    {
      "cell_type": "code",
      "metadata": {
        "id": "bHBcPHj4LF01"
      },
      "source": [
        "words1 = [\"you\", \"much\",\"hard\"]\n",
        "words2 = [\"i\", \"you\",\"he\"]\n",
        "words3 = [\"love\", \"ate\",\"works\"]\n",
        "funct = map(lambda x, y, z: x + \" \" + y + \" \" + z, words2, words3, words1)"
      ],
      "execution_count": 59,
      "outputs": []
    },
    {
      "cell_type": "code",
      "metadata": {
        "colab": {
          "base_uri": "https://localhost:8080/"
        },
        "id": "EzYPriIoK_PC",
        "outputId": "a46bf0e8-6b16-485f-e9b6-2659e4423e92"
      },
      "source": [
        "print(list(funct))"
      ],
      "execution_count": 60,
      "outputs": [
        {
          "output_type": "stream",
          "name": "stdout",
          "text": [
            "['i love you', 'you ate much', 'he works hard']\n"
          ]
        }
      ]
    },
    {
      "cell_type": "code",
      "metadata": {
        "id": "OGcNf1hANGhR"
      },
      "source": [
        "first_ten = [0, 1, 2, 3, 4, 5, 6, 7, 8, 9]\n",
        "even = filter(lambda x : x%2==0, first_ten)"
      ],
      "execution_count": 61,
      "outputs": []
    },
    {
      "cell_type": "code",
      "metadata": {
        "colab": {
          "base_uri": "https://localhost:8080/"
        },
        "id": "DujueP2PN3MQ",
        "outputId": "3a796335-3c10-4df5-947d-7ec57b0bdc40"
      },
      "source": [
        "print(\"Even numbers are :\", list(even))"
      ],
      "execution_count": 62,
      "outputs": [
        {
          "output_type": "stream",
          "name": "stdout",
          "text": [
            "Even numbers are : [0, 2, 4, 6, 8]\n"
          ]
        }
      ]
    },
    {
      "cell_type": "code",
      "metadata": {
        "id": "nPOCpt3yORza"
      },
      "source": [
        "words = [\"apple\", \"swim\", \"clock\", \"me\", \"kiwi\", \"banana\"]\n",
        "five = filter(lambda x: len(x) < 5, words)"
      ],
      "execution_count": 65,
      "outputs": []
    },
    {
      "cell_type": "code",
      "metadata": {
        "colab": {
          "base_uri": "https://localhost:8080/"
        },
        "id": "MVjV2-_oOtxg",
        "outputId": "f6f5aec2-2a48-4ff5-85a0-b229f2e05c37"
      },
      "source": [
        "print(\"Less than five :\", list(five))"
      ],
      "execution_count": 66,
      "outputs": [
        {
          "output_type": "stream",
          "name": "stdout",
          "text": [
            "Less than five : ['swim', 'me', 'kiwi']\n"
          ]
        }
      ]
    },
    {
      "cell_type": "code",
      "metadata": {
        "id": "8APwXk0QTUb_"
      },
      "source": [
        "words = [\"apple\", \"swim\", \"clock\", \"me\", \"kiwi\", \"banana\"]\n"
      ],
      "execution_count": 67,
      "outputs": []
    },
    {
      "cell_type": "code",
      "metadata": {
        "colab": {
          "base_uri": "https://localhost:8080/"
        },
        "id": "Gwzv54UqTWVG",
        "outputId": "e9bd62ab-6094-4941-b0fb-5b2a98459093"
      },
      "source": [
        "for i in filter(lambda x : len(x) < 5, words) :\n",
        "  print(i)"
      ],
      "execution_count": 68,
      "outputs": [
        {
          "output_type": "stream",
          "name": "stdout",
          "text": [
            "swim\n",
            "me\n",
            "kiwi\n"
          ]
        }
      ]
    },
    {
      "cell_type": "code",
      "metadata": {
        "id": "7AybkX6cT2Qk"
      },
      "source": [
        "first_ten = [\"a\", \"b\", \"c\", \"d\", \"e\", \"f\", \"g\", \"h\", \"i\",\"j\"]\n",
        "vowel_list = [\"a\", \"e\", \"i\", \"o\", \"u\"]"
      ],
      "execution_count": 69,
      "outputs": []
    },
    {
      "cell_type": "code",
      "metadata": {
        "id": "OOMJQ7PEUMC3"
      },
      "source": [
        "vowels = filter(lambda x : x in vowel_list, first_ten)"
      ],
      "execution_count": 70,
      "outputs": []
    },
    {
      "cell_type": "code",
      "metadata": {
        "colab": {
          "base_uri": "https://localhost:8080/"
        },
        "id": "I_vOBL-YUm6K",
        "outputId": "85203163-1eff-48b8-9a3f-a46057b1654b"
      },
      "source": [
        "print(list(vowels))"
      ],
      "execution_count": 71,
      "outputs": [
        {
          "output_type": "stream",
          "name": "stdout",
          "text": [
            "['a', 'e', 'i']\n"
          ]
        }
      ]
    },
    {
      "cell_type": "code",
      "metadata": {
        "id": "lAjGgYHtVnBU"
      },
      "source": [
        "def modular(n) :\n",
        "  return lambda x : x ** n\n",
        "  "
      ],
      "execution_count": 73,
      "outputs": []
    },
    {
      "cell_type": "code",
      "metadata": {
        "id": "PI0sXi28WQOA"
      },
      "source": [
        "karesinial = modular(2)\n"
      ],
      "execution_count": 75,
      "outputs": []
    },
    {
      "cell_type": "code",
      "metadata": {
        "colab": {
          "base_uri": "https://localhost:8080/"
        },
        "id": "65tJK3vUWjZQ",
        "outputId": "a69dbbb4-b786-4ee8-e1b4-8a0a6ebc11cc"
      },
      "source": [
        "karesinial(3)"
      ],
      "execution_count": 77,
      "outputs": [
        {
          "output_type": "execute_result",
          "data": {
            "text/plain": [
              "9"
            ]
          },
          "metadata": {},
          "execution_count": 77
        }
      ]
    },
    {
      "cell_type": "code",
      "metadata": {
        "id": "WoWEyQcQW3Qj"
      },
      "source": [
        "kupunual = modular(3)"
      ],
      "execution_count": 78,
      "outputs": []
    },
    {
      "cell_type": "code",
      "metadata": {
        "colab": {
          "base_uri": "https://localhost:8080/"
        },
        "id": "niLoOMeeW6xZ",
        "outputId": "7c9c06bc-022c-4c5b-b95c-1667d86607d6"
      },
      "source": [
        "kupunual"
      ],
      "execution_count": 79,
      "outputs": [
        {
          "output_type": "execute_result",
          "data": {
            "text/plain": [
              "<function __main__.modular.<locals>.<lambda>>"
            ]
          },
          "metadata": {},
          "execution_count": 79
        }
      ]
    },
    {
      "cell_type": "code",
      "metadata": {
        "colab": {
          "base_uri": "https://localhost:8080/"
        },
        "id": "GrFWAQArW-Wu",
        "outputId": "629fb053-f42d-43d7-ce42-50f28e5f2cf7"
      },
      "source": [
        "kupunual(3)"
      ],
      "execution_count": 80,
      "outputs": [
        {
          "output_type": "execute_result",
          "data": {
            "text/plain": [
              "27"
            ]
          },
          "metadata": {},
          "execution_count": 80
        }
      ]
    },
    {
      "cell_type": "code",
      "metadata": {
        "colab": {
          "base_uri": "https://localhost:8080/"
        },
        "id": "8uxIq-HbXMdi",
        "outputId": "5c7ebb87-e511-427c-a4c3-c0edf17d5661"
      },
      "source": [
        "kupunual = modular(3)(4)\n",
        "print(kupunual)"
      ],
      "execution_count": 82,
      "outputs": [
        {
          "output_type": "stream",
          "name": "stdout",
          "text": [
            "64\n"
          ]
        }
      ]
    },
    {
      "cell_type": "code",
      "metadata": {
        "id": "fGB5N0_rXx_C"
      },
      "source": [
        "def functioner(emoji) :\n",
        "  return lambda x : print(x, emoji)\n",
        "\n",
        "myPrint_smile = functioner(\":)\")\n",
        "myPrint_sad = functioner(\":(\")\n",
        "myPrint_neutral = functioner(\":|\")"
      ],
      "execution_count": 85,
      "outputs": []
    },
    {
      "cell_type": "code",
      "metadata": {
        "colab": {
          "base_uri": "https://localhost:8080/"
        },
        "id": "c5WTDUDTaKB2",
        "outputId": "e965ae66-1058-4ffe-edf2-6ee683cf755b"
      },
      "source": [
        "myPrint_sad(\"hello\")"
      ],
      "execution_count": 86,
      "outputs": [
        {
          "output_type": "stream",
          "name": "stdout",
          "text": [
            "hello :(\n"
          ]
        }
      ]
    },
    {
      "cell_type": "code",
      "metadata": {
        "id": "WXwtY0B1akez"
      },
      "source": [
        "def function_generator() :\n",
        "  return lambda"
      ],
      "execution_count": null,
      "outputs": []
    },
    {
      "cell_type": "code",
      "metadata": {
        "id": "bEgO5WwJbAFw"
      },
      "source": [
        "# ali_print\n",
        "# ali max\n",
        "# ali_bool\n",
        "# ali_sorted"
      ],
      "execution_count": null,
      "outputs": []
    },
    {
      "cell_type": "code",
      "metadata": {
        "colab": {
          "base_uri": "https://localhost:8080/"
        },
        "id": "P5mbjcf9bzkr",
        "outputId": "50214b30-69b4-4eed-d4f7-fd14335043c1"
      },
      "source": [
        "(lambda x :print(x))(\"ali veli deli\")"
      ],
      "execution_count": 87,
      "outputs": [
        {
          "output_type": "stream",
          "name": "stdout",
          "text": [
            "ali veli deli\n"
          ]
        }
      ]
    },
    {
      "cell_type": "code",
      "metadata": {
        "colab": {
          "base_uri": "https://localhost:8080/"
        },
        "id": "Cb5Uw5yQb9Zi",
        "outputId": "c6338c17-c30e-4056-ace3-2cf5ae42efd1"
      },
      "source": [
        "(lambda x : max(x))((1,2,3))"
      ],
      "execution_count": 89,
      "outputs": [
        {
          "output_type": "execute_result",
          "data": {
            "text/plain": [
              "3"
            ]
          },
          "metadata": {},
          "execution_count": 89
        }
      ]
    },
    {
      "cell_type": "code",
      "metadata": {
        "colab": {
          "base_uri": "https://localhost:8080/"
        },
        "id": "P0ADRRA3cLlI",
        "outputId": "a6508008-0a29-4045-b155-4e3349354c01"
      },
      "source": [
        "(lambda x : sorted(x))((3, 5, 1))"
      ],
      "execution_count": 91,
      "outputs": [
        {
          "output_type": "execute_result",
          "data": {
            "text/plain": [
              "[1, 3, 5]"
            ]
          },
          "metadata": {},
          "execution_count": 91
        }
      ]
    },
    {
      "cell_type": "code",
      "metadata": {
        "id": "TJLMNlDycib2"
      },
      "source": [
        "def function_generator(function_name) :\n",
        "  return lambda x : function_name(x)"
      ],
      "execution_count": 93,
      "outputs": []
    },
    {
      "cell_type": "code",
      "metadata": {
        "id": "VKlZ00MAcaa7"
      },
      "source": [
        "mustafa_max = function_generator(max)"
      ],
      "execution_count": 96,
      "outputs": []
    },
    {
      "cell_type": "code",
      "metadata": {
        "colab": {
          "base_uri": "https://localhost:8080/"
        },
        "id": "mqeewrWgdY-Y",
        "outputId": "94b0a34f-8e50-4891-f0ad-4dc9d27f696d"
      },
      "source": [
        "mustafa_max([1, 2, 3])"
      ],
      "execution_count": 97,
      "outputs": [
        {
          "output_type": "execute_result",
          "data": {
            "text/plain": [
              "3"
            ]
          },
          "metadata": {},
          "execution_count": 97
        }
      ]
    }
  ]
}