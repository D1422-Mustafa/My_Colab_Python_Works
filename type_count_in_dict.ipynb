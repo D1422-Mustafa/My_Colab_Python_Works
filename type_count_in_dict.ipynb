{
  "nbformat": 4,
  "nbformat_minor": 0,
  "metadata": {
    "colab": {
      "name": "type count in dict.ipynb",
      "provenance": [],
      "collapsed_sections": [],
      "authorship_tag": "ABX9TyNsBDqVlkdj63TAB48Mmt9j",
      "include_colab_link": true
    },
    "kernelspec": {
      "name": "python3",
      "display_name": "Python 3"
    },
    "language_info": {
      "name": "python"
    }
  },
  "cells": [
    {
      "cell_type": "markdown",
      "metadata": {
        "id": "view-in-github",
        "colab_type": "text"
      },
      "source": [
        "<a href=\"https://colab.research.google.com/github/D1422-Mustafa/My_Colab_Python_Works/blob/main/type_count_in_dict.ipynb\" target=\"_parent\"><img src=\"https://colab.research.google.com/assets/colab-badge.svg\" alt=\"Open In Colab\"/></a>"
      ]
    },
    {
      "cell_type": "code",
      "execution_count": null,
      "metadata": {
        "id": "4cYExovlRzGJ"
      },
      "outputs": [],
      "source": [
        "veri = [\"a\", \"b\", True, (False, 1), {\"1\", 2}, [1, 2], {\"2\", \"two\"}, {2, \"3\"}, \"c\", 23, 0]\n",
        "tipler = [\"int\", \"str\", \"bool\", \"list\", \"tuple\", \"dict\", \"set\"]\n",
        "toplam = {}.fromkeys(tipler, 0) \n",
        "for i in range(len(veri)) :\n",
        "  if type(veri[i]) == int :toplam[\"int\"] += 1\n",
        "  elif type(veri[i]) == str :toplam[\"str\"] += 1\n",
        "  elif type(veri[i]) == bool :toplam[\"bool\"] += 1\n",
        "  elif type(veri[i]) == list :toplam[\"list\"] += 1\n",
        "  elif type(veri[i]) == tuple :toplam[\"tuple\"] += 1\n",
        "  elif type(veri[i]) == dict :toplam[\"dict\"] += 1\n",
        "  elif type(veri[i]) == set :toplam[\"set\"] += 1\n",
        "\n",
        "print(toplam)"
      ]
    }
  ]
}